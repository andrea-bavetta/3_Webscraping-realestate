{
 "cells": [
  {
   "cell_type": "markdown",
   "metadata": {},
   "source": [
    "# Data cleaning Immobiliare.it"
   ]
  },
  {
   "cell_type": "markdown",
   "metadata": {},
   "source": [
    "I first import the libraries that i believe they will be needed for this cleaning process."
   ]
  },
  {
   "cell_type": "code",
   "execution_count": 187,
   "metadata": {},
   "outputs": [],
   "source": [
    "import numpy as np\n",
    "import pandas as pd\n",
    "import re"
   ]
  },
  {
   "cell_type": "markdown",
   "metadata": {},
   "source": [
    "I now need to load the ```.csv``` file into a pandas dataframe and then check what the dataframe looks like as well as its datatypes."
   ]
  },
  {
   "cell_type": "code",
   "execution_count": 188,
   "metadata": {},
   "outputs": [
    {
     "data": {
      "text/html": [
       "<div>\n",
       "<style scoped>\n",
       "    .dataframe tbody tr th:only-of-type {\n",
       "        vertical-align: middle;\n",
       "    }\n",
       "\n",
       "    .dataframe tbody tr th {\n",
       "        vertical-align: top;\n",
       "    }\n",
       "\n",
       "    .dataframe thead th {\n",
       "        text-align: right;\n",
       "    }\n",
       "</style>\n",
       "<table border=\"1\" class=\"dataframe\">\n",
       "  <thead>\n",
       "    <tr style=\"text-align: right;\">\n",
       "      <th></th>\n",
       "      <th>Unnamed: 0</th>\n",
       "      <th>region</th>\n",
       "      <th>city</th>\n",
       "      <th>area</th>\n",
       "      <th>rooms</th>\n",
       "      <th>toilets</th>\n",
       "      <th>price</th>\n",
       "      <th>date</th>\n",
       "    </tr>\n",
       "  </thead>\n",
       "  <tbody>\n",
       "    <tr>\n",
       "      <th>0</th>\n",
       "      <td>0</td>\n",
       "      <td>abruzzo</td>\n",
       "      <td>Pescara</td>\n",
       "      <td>295m²</td>\n",
       "      <td>5+</td>\n",
       "      <td>3+</td>\n",
       "      <td>€ 257.000</td>\n",
       "      <td>2023-07-31</td>\n",
       "    </tr>\n",
       "    <tr>\n",
       "      <th>1</th>\n",
       "      <td>1</td>\n",
       "      <td>abruzzo</td>\n",
       "      <td>Francavilla al Mare</td>\n",
       "      <td>88m²</td>\n",
       "      <td>3</td>\n",
       "      <td>1</td>\n",
       "      <td>€ 168.000</td>\n",
       "      <td>2023-07-31</td>\n",
       "    </tr>\n",
       "    <tr>\n",
       "      <th>2</th>\n",
       "      <td>2</td>\n",
       "      <td>abruzzo</td>\n",
       "      <td>Pescara</td>\n",
       "      <td>227m²</td>\n",
       "      <td>5</td>\n",
       "      <td>3+</td>\n",
       "      <td>€ 299.000</td>\n",
       "      <td>2023-07-31</td>\n",
       "    </tr>\n",
       "    <tr>\n",
       "      <th>3</th>\n",
       "      <td>3</td>\n",
       "      <td>abruzzo</td>\n",
       "      <td>Appartamenti di nuova costruzione a Tortoreto</td>\n",
       "      <td>43m²</td>\n",
       "      <td>2 - 4</td>\n",
       "      <td>1</td>\n",
       "      <td>da € 165.000</td>\n",
       "      <td>2023-07-31</td>\n",
       "    </tr>\n",
       "    <tr>\n",
       "      <th>4</th>\n",
       "      <td>4</td>\n",
       "      <td>abruzzo</td>\n",
       "      <td>Francavilla al Mare</td>\n",
       "      <td>83m²</td>\n",
       "      <td>4</td>\n",
       "      <td>1</td>\n",
       "      <td>€ 139.000</td>\n",
       "      <td>2023-07-31</td>\n",
       "    </tr>\n",
       "  </tbody>\n",
       "</table>\n",
       "</div>"
      ],
      "text/plain": [
       "   Unnamed: 0   region                                           city   area  \\\n",
       "0           0  abruzzo                                        Pescara  295m²   \n",
       "1           1  abruzzo                            Francavilla al Mare   88m²   \n",
       "2           2  abruzzo                                        Pescara  227m²   \n",
       "3           3  abruzzo  Appartamenti di nuova costruzione a Tortoreto   43m²   \n",
       "4           4  abruzzo                            Francavilla al Mare   83m²   \n",
       "\n",
       "   rooms toilets         price        date  \n",
       "0     5+      3+     € 257.000  2023-07-31  \n",
       "1      3       1     € 168.000  2023-07-31  \n",
       "2      5      3+     € 299.000  2023-07-31  \n",
       "3  2 - 4       1  da € 165.000  2023-07-31  \n",
       "4      4       1     € 139.000  2023-07-31  "
      ]
     },
     "execution_count": 188,
     "metadata": {},
     "output_type": "execute_result"
    }
   ],
   "source": [
    "#REMEMBER TO FILL THE PROPER FILE NAME!\n",
    "df_raw = pd.read_csv('house_prices_italy_2023_7.csv')\n",
    "df_raw.head()"
   ]
  },
  {
   "cell_type": "code",
   "execution_count": 189,
   "metadata": {},
   "outputs": [
    {
     "name": "stdout",
     "output_type": "stream",
     "text": [
      "<class 'pandas.core.frame.DataFrame'>\n",
      "RangeIndex: 39999 entries, 0 to 39998\n",
      "Data columns (total 8 columns):\n",
      " #   Column      Non-Null Count  Dtype \n",
      "---  ------      --------------  ----- \n",
      " 0   Unnamed: 0  39999 non-null  int64 \n",
      " 1   region      39999 non-null  object\n",
      " 2   city        39999 non-null  object\n",
      " 3   area        39974 non-null  object\n",
      " 4   rooms       39057 non-null  object\n",
      " 5   toilets     39999 non-null  object\n",
      " 6   price       39999 non-null  object\n",
      " 7   date        39999 non-null  object\n",
      "dtypes: int64(1), object(7)\n",
      "memory usage: 2.4+ MB\n"
     ]
    }
   ],
   "source": [
    "df_raw.info()"
   ]
  },
  {
   "cell_type": "markdown",
   "metadata": {},
   "source": [
    "As expected some columns have wrong datatypes for what I plan to do. I would like to have them numerical columns into integer format with np.nan values for null. Date column as date instead.\n",
    "Let's first have a look on how many nulls we have here:"
   ]
  },
  {
   "cell_type": "code",
   "execution_count": 190,
   "metadata": {},
   "outputs": [
    {
     "data": {
      "text/plain": [
       "Unnamed: 0      0\n",
       "region          0\n",
       "city            0\n",
       "area           25\n",
       "rooms         942\n",
       "toilets         0\n",
       "price           0\n",
       "date            0\n",
       "dtype: int64"
      ]
     },
     "execution_count": 190,
     "metadata": {},
     "output_type": "execute_result"
    }
   ],
   "source": [
    "df_raw.isnull().sum()"
   ]
  },
  {
   "cell_type": "markdown",
   "metadata": {},
   "source": [
    "Apart from rooms column, not so many indeed. I decided to drop the first column (*Unnamed:0*) since it does not carry any info:"
   ]
  },
  {
   "cell_type": "code",
   "execution_count": 191,
   "metadata": {},
   "outputs": [],
   "source": [
    "df=df_raw.drop(\"Unnamed: 0\", axis=1)"
   ]
  },
  {
   "cell_type": "markdown",
   "metadata": {},
   "source": [
    "I change the column names to match the dimensions of the values:"
   ]
  },
  {
   "cell_type": "code",
   "execution_count": 192,
   "metadata": {},
   "outputs": [],
   "source": [
    "df.rename(columns={'area':'area[m2]', 'price':'price[€]'}, inplace=True)"
   ]
  },
  {
   "cell_type": "markdown",
   "metadata": {},
   "source": [
    "I want to check if the city column has been properly scaped:"
   ]
  },
  {
   "cell_type": "code",
   "execution_count": 193,
   "metadata": {},
   "outputs": [
    {
     "name": "stdout",
     "output_type": "stream",
     "text": [
      "Montagnana                                       1\n",
      "Appartamenti di nuova costruzione a Genova       1\n",
      "Mallare                                          1\n",
      "Soveria Mannelli                                 1\n",
      "Portofino                                        1\n",
      "                                              ... \n",
      "Napoli                                         695\n",
      "Genova                                         704\n",
      "Torino                                         751\n",
      "Milano                                        1121\n",
      "Roma                                          1610\n",
      "Name: city, Length: 3554, dtype: int64\n",
      "\n",
      "Some entries show wrongly scraped city. I need to remove them!\n"
     ]
    }
   ],
   "source": [
    "#Remove possible white space from begin and end of the string\n",
    "df['city'] = df['city'].str.strip()\n",
    "\n",
    "#Showing the unique values\n",
    "print(df['city'].value_counts().sort_values(ascending=True))\n",
    "print(\"\\nSome entries show wrongly scraped city. I need to remove them!\")\n",
    "\n",
    "#Saving them in a txt file so i can explore it better\n",
    "df['city'].value_counts().sort_index(ascending=True).to_csv('city.txt', header=False)"
   ]
  },
  {
   "cell_type": "code",
   "execution_count": 194,
   "metadata": {},
   "outputs": [
    {
     "name": "stdout",
     "output_type": "stream",
     "text": [
      "<class 'pandas.core.frame.DataFrame'>\n",
      "RangeIndex: 39999 entries, 0 to 39998\n",
      "Data columns (total 7 columns):\n",
      " #   Column    Non-Null Count  Dtype \n",
      "---  ------    --------------  ----- \n",
      " 0   region    39999 non-null  object\n",
      " 1   city      39999 non-null  object\n",
      " 2   area[m2]  39974 non-null  object\n",
      " 3   rooms     39057 non-null  object\n",
      " 4   toilets   39999 non-null  object\n",
      " 5   price[€]  39999 non-null  object\n",
      " 6   date      39999 non-null  object\n",
      "dtypes: object(7)\n",
      "memory usage: 2.1+ MB\n",
      "None\n"
     ]
    }
   ],
   "source": [
    "print(df.info())"
   ]
  },
  {
   "cell_type": "code",
   "execution_count": 195,
   "metadata": {},
   "outputs": [
    {
     "name": "stdout",
     "output_type": "stream",
     "text": [
      "<class 'pandas.core.frame.DataFrame'>\n",
      "Int64Index: 39490 entries, 0 to 39998\n",
      "Data columns (total 7 columns):\n",
      " #   Column    Non-Null Count  Dtype \n",
      "---  ------    --------------  ----- \n",
      " 0   region    39490 non-null  object\n",
      " 1   city      39490 non-null  object\n",
      " 2   area[m2]  39465 non-null  object\n",
      " 3   rooms     38559 non-null  object\n",
      " 4   toilets   39490 non-null  object\n",
      " 5   price[€]  39490 non-null  object\n",
      " 6   date      39490 non-null  object\n",
      "dtypes: object(7)\n",
      "memory usage: 2.4+ MB\n"
     ]
    }
   ],
   "source": [
    "#remove data entries from df['city] that contains the word \"Appartamenti\" or \"Attici\" or \"Negozi\" or \"Ville\"\n",
    "df = df[~df['city'].str.contains(\"Appartamenti|Attici|Negozi|Ville\")]\n",
    "df.info()"
   ]
  },
  {
   "cell_type": "code",
   "execution_count": 196,
   "metadata": {},
   "outputs": [],
   "source": [
    "#Check the result on a txt file\n",
    "df['city'].value_counts().sort_index(ascending=True).to_csv('city_cleaned.txt', header=False)"
   ]
  },
  {
   "cell_type": "markdown",
   "metadata": {},
   "source": [
    "Roughly 500 entries where removed because the city was not properly scraped. This is because the title did not contain the city name in that case but it was formatted differently."
   ]
  },
  {
   "cell_type": "markdown",
   "metadata": {},
   "source": [
    "Now I can start the cleaning the rest of the columns.\n",
    "I force the \"area\" column as 'string' datatype, if not, later I noticed it will raise errors."
   ]
  },
  {
   "cell_type": "code",
   "execution_count": 197,
   "metadata": {},
   "outputs": [],
   "source": [
    "df['area[m2]'] = df['area[m2]'].astype(str)"
   ]
  },
  {
   "cell_type": "code",
   "execution_count": 198,
   "metadata": {},
   "outputs": [
    {
     "data": {
      "text/html": [
       "<div>\n",
       "<style scoped>\n",
       "    .dataframe tbody tr th:only-of-type {\n",
       "        vertical-align: middle;\n",
       "    }\n",
       "\n",
       "    .dataframe tbody tr th {\n",
       "        vertical-align: top;\n",
       "    }\n",
       "\n",
       "    .dataframe thead th {\n",
       "        text-align: right;\n",
       "    }\n",
       "</style>\n",
       "<table border=\"1\" class=\"dataframe\">\n",
       "  <thead>\n",
       "    <tr style=\"text-align: right;\">\n",
       "      <th></th>\n",
       "      <th>region</th>\n",
       "      <th>city</th>\n",
       "      <th>area[m2]</th>\n",
       "      <th>rooms</th>\n",
       "      <th>toilets</th>\n",
       "      <th>price[€]</th>\n",
       "      <th>date</th>\n",
       "    </tr>\n",
       "  </thead>\n",
       "  <tbody>\n",
       "    <tr>\n",
       "      <th>0</th>\n",
       "      <td>abruzzo</td>\n",
       "      <td>Pescara</td>\n",
       "      <td>295</td>\n",
       "      <td>5+</td>\n",
       "      <td>3+</td>\n",
       "      <td>€ 257.000</td>\n",
       "      <td>2023-07-31</td>\n",
       "    </tr>\n",
       "    <tr>\n",
       "      <th>1</th>\n",
       "      <td>abruzzo</td>\n",
       "      <td>Francavilla al Mare</td>\n",
       "      <td>88</td>\n",
       "      <td>3</td>\n",
       "      <td>1</td>\n",
       "      <td>€ 168.000</td>\n",
       "      <td>2023-07-31</td>\n",
       "    </tr>\n",
       "    <tr>\n",
       "      <th>2</th>\n",
       "      <td>abruzzo</td>\n",
       "      <td>Pescara</td>\n",
       "      <td>227</td>\n",
       "      <td>5</td>\n",
       "      <td>3+</td>\n",
       "      <td>€ 299.000</td>\n",
       "      <td>2023-07-31</td>\n",
       "    </tr>\n",
       "    <tr>\n",
       "      <th>4</th>\n",
       "      <td>abruzzo</td>\n",
       "      <td>Francavilla al Mare</td>\n",
       "      <td>83</td>\n",
       "      <td>4</td>\n",
       "      <td>1</td>\n",
       "      <td>€ 139.000</td>\n",
       "      <td>2023-07-31</td>\n",
       "    </tr>\n",
       "    <tr>\n",
       "      <th>5</th>\n",
       "      <td>abruzzo</td>\n",
       "      <td>Roseto degli Abruzzi</td>\n",
       "      <td>978</td>\n",
       "      <td>5+</td>\n",
       "      <td>3+</td>\n",
       "      <td>€ 1.500.000</td>\n",
       "      <td>2023-07-31</td>\n",
       "    </tr>\n",
       "  </tbody>\n",
       "</table>\n",
       "</div>"
      ],
      "text/plain": [
       "    region                  city area[m2] rooms toilets     price[€]  \\\n",
       "0  abruzzo               Pescara      295    5+      3+    € 257.000   \n",
       "1  abruzzo   Francavilla al Mare       88     3       1    € 168.000   \n",
       "2  abruzzo               Pescara      227     5      3+    € 299.000   \n",
       "4  abruzzo   Francavilla al Mare       83     4       1    € 139.000   \n",
       "5  abruzzo  Roseto degli Abruzzi      978    5+      3+  € 1.500.000   \n",
       "\n",
       "         date  \n",
       "0  2023-07-31  \n",
       "1  2023-07-31  \n",
       "2  2023-07-31  \n",
       "4  2023-07-31  \n",
       "5  2023-07-31  "
      ]
     },
     "execution_count": 198,
     "metadata": {},
     "output_type": "execute_result"
    }
   ],
   "source": [
    "p = re.compile('[0-9]+')\n",
    "df['area[m2]'] = df['area[m2]'].apply(lambda x: 0 if p.search(x) is None else p.search(x).group())\n",
    "df.head()"
   ]
  },
  {
   "cell_type": "code",
   "execution_count": 199,
   "metadata": {},
   "outputs": [
    {
     "name": "stdout",
     "output_type": "stream",
     "text": [
      "<class 'pandas.core.frame.DataFrame'>\n",
      "Int64Index: 39490 entries, 0 to 39998\n",
      "Data columns (total 7 columns):\n",
      " #   Column    Non-Null Count  Dtype \n",
      "---  ------    --------------  ----- \n",
      " 0   region    39490 non-null  object\n",
      " 1   city      39490 non-null  object\n",
      " 2   area[m2]  39490 non-null  int64 \n",
      " 3   rooms     38559 non-null  object\n",
      " 4   toilets   39490 non-null  object\n",
      " 5   price[€]  39490 non-null  object\n",
      " 6   date      39490 non-null  object\n",
      "dtypes: int64(1), object(6)\n",
      "memory usage: 2.4+ MB\n"
     ]
    }
   ],
   "source": [
    "df['area[m2]'] = df['area[m2]'].astype('int')\n",
    "df.info()"
   ]
  },
  {
   "cell_type": "markdown",
   "metadata": {},
   "source": [
    "Since I am not particularly interested in getting to know statistics about rooms and toilets but more on prices, area and their distribution over the italian territory, I will keep **rooms** and **toilets** columns as they are, namely categorical variables of type strings.\n",
    "Now for for the **price** column: \n"
   ]
  },
  {
   "cell_type": "code",
   "execution_count": 200,
   "metadata": {},
   "outputs": [
    {
     "name": "stdout",
     "output_type": "stream",
     "text": [
      "<class 'pandas.core.frame.DataFrame'>\n",
      "Int64Index: 39490 entries, 0 to 39998\n",
      "Data columns (total 7 columns):\n",
      " #   Column    Non-Null Count  Dtype \n",
      "---  ------    --------------  ----- \n",
      " 0   region    39490 non-null  object\n",
      " 1   city      39490 non-null  object\n",
      " 2   area[m2]  39490 non-null  int64 \n",
      " 3   rooms     38559 non-null  object\n",
      " 4   toilets   39490 non-null  object\n",
      " 5   price[€]  39490 non-null  int64 \n",
      " 6   date      39490 non-null  object\n",
      "dtypes: int64(2), object(5)\n",
      "memory usage: 2.4+ MB\n"
     ]
    }
   ],
   "source": [
    "df['price[€]'] = df['price[€]'].str.replace('.','', regex=False)\n",
    "df['price[€]'] = df['price[€]'].str.replace('€','', regex= False)\n",
    "\n",
    "p_price = re.compile('\\d+')\n",
    "df['price[€]'] = df['price[€]'].apply(lambda x: 0 if x.strip().isnumeric() == False else p.search(x).group())\n",
    "df['price[€]'] = df['price[€]'].astype('int')\n",
    "df.info()\n"
   ]
  },
  {
   "cell_type": "markdown",
   "metadata": {},
   "source": [
    "In order to convert to integer I was forced to put *0* instead of ```np.nan```. That zero value will interfere with the statistic computation. Hence i convert it back to NaN."
   ]
  },
  {
   "cell_type": "code",
   "execution_count": 201,
   "metadata": {},
   "outputs": [
    {
     "data": {
      "text/html": [
       "<div>\n",
       "<style scoped>\n",
       "    .dataframe tbody tr th:only-of-type {\n",
       "        vertical-align: middle;\n",
       "    }\n",
       "\n",
       "    .dataframe tbody tr th {\n",
       "        vertical-align: top;\n",
       "    }\n",
       "\n",
       "    .dataframe thead th {\n",
       "        text-align: right;\n",
       "    }\n",
       "</style>\n",
       "<table border=\"1\" class=\"dataframe\">\n",
       "  <thead>\n",
       "    <tr style=\"text-align: right;\">\n",
       "      <th></th>\n",
       "      <th>region</th>\n",
       "      <th>city</th>\n",
       "      <th>area[m2]</th>\n",
       "      <th>rooms</th>\n",
       "      <th>toilets</th>\n",
       "      <th>price[€]</th>\n",
       "      <th>date</th>\n",
       "    </tr>\n",
       "  </thead>\n",
       "  <tbody>\n",
       "    <tr>\n",
       "      <th>0</th>\n",
       "      <td>abruzzo</td>\n",
       "      <td>Pescara</td>\n",
       "      <td>295</td>\n",
       "      <td>5+</td>\n",
       "      <td>3+</td>\n",
       "      <td>257000</td>\n",
       "      <td>2023-07-31</td>\n",
       "    </tr>\n",
       "    <tr>\n",
       "      <th>1</th>\n",
       "      <td>abruzzo</td>\n",
       "      <td>Francavilla al Mare</td>\n",
       "      <td>88</td>\n",
       "      <td>3</td>\n",
       "      <td>1</td>\n",
       "      <td>168000</td>\n",
       "      <td>2023-07-31</td>\n",
       "    </tr>\n",
       "    <tr>\n",
       "      <th>2</th>\n",
       "      <td>abruzzo</td>\n",
       "      <td>Pescara</td>\n",
       "      <td>227</td>\n",
       "      <td>5</td>\n",
       "      <td>3+</td>\n",
       "      <td>299000</td>\n",
       "      <td>2023-07-31</td>\n",
       "    </tr>\n",
       "    <tr>\n",
       "      <th>4</th>\n",
       "      <td>abruzzo</td>\n",
       "      <td>Francavilla al Mare</td>\n",
       "      <td>83</td>\n",
       "      <td>4</td>\n",
       "      <td>1</td>\n",
       "      <td>139000</td>\n",
       "      <td>2023-07-31</td>\n",
       "    </tr>\n",
       "    <tr>\n",
       "      <th>5</th>\n",
       "      <td>abruzzo</td>\n",
       "      <td>Roseto degli Abruzzi</td>\n",
       "      <td>978</td>\n",
       "      <td>5+</td>\n",
       "      <td>3+</td>\n",
       "      <td>1500000</td>\n",
       "      <td>2023-07-31</td>\n",
       "    </tr>\n",
       "    <tr>\n",
       "      <th>...</th>\n",
       "      <td>...</td>\n",
       "      <td>...</td>\n",
       "      <td>...</td>\n",
       "      <td>...</td>\n",
       "      <td>...</td>\n",
       "      <td>...</td>\n",
       "      <td>...</td>\n",
       "    </tr>\n",
       "    <tr>\n",
       "      <th>39994</th>\n",
       "      <td>veneto</td>\n",
       "      <td>San Zeno di Montagna</td>\n",
       "      <td>400</td>\n",
       "      <td>5+</td>\n",
       "      <td>3+</td>\n",
       "      <td>598000</td>\n",
       "      <td>2023-07-31</td>\n",
       "    </tr>\n",
       "    <tr>\n",
       "      <th>39995</th>\n",
       "      <td>veneto</td>\n",
       "      <td>Bassano del Grappa</td>\n",
       "      <td>260</td>\n",
       "      <td>5+</td>\n",
       "      <td>3+</td>\n",
       "      <td>440000</td>\n",
       "      <td>2023-07-31</td>\n",
       "    </tr>\n",
       "    <tr>\n",
       "      <th>39996</th>\n",
       "      <td>veneto</td>\n",
       "      <td>Garda</td>\n",
       "      <td>219</td>\n",
       "      <td>5+</td>\n",
       "      <td>2</td>\n",
       "      <td>1200000</td>\n",
       "      <td>2023-07-31</td>\n",
       "    </tr>\n",
       "    <tr>\n",
       "      <th>39997</th>\n",
       "      <td>veneto</td>\n",
       "      <td>Mirano</td>\n",
       "      <td>185</td>\n",
       "      <td>5+</td>\n",
       "      <td>2</td>\n",
       "      <td>450000</td>\n",
       "      <td>2023-07-31</td>\n",
       "    </tr>\n",
       "    <tr>\n",
       "      <th>39998</th>\n",
       "      <td>veneto</td>\n",
       "      <td>Dolo</td>\n",
       "      <td>170</td>\n",
       "      <td>5+</td>\n",
       "      <td>2</td>\n",
       "      <td>380000</td>\n",
       "      <td>2023-07-31</td>\n",
       "    </tr>\n",
       "  </tbody>\n",
       "</table>\n",
       "<p>39490 rows × 7 columns</p>\n",
       "</div>"
      ],
      "text/plain": [
       "        region                  city  area[m2] rooms toilets  price[€]  \\\n",
       "0      abruzzo               Pescara       295    5+      3+    257000   \n",
       "1      abruzzo   Francavilla al Mare        88     3       1    168000   \n",
       "2      abruzzo               Pescara       227     5      3+    299000   \n",
       "4      abruzzo   Francavilla al Mare        83     4       1    139000   \n",
       "5      abruzzo  Roseto degli Abruzzi       978    5+      3+   1500000   \n",
       "...        ...                   ...       ...   ...     ...       ...   \n",
       "39994   veneto  San Zeno di Montagna       400    5+      3+    598000   \n",
       "39995   veneto    Bassano del Grappa       260    5+      3+    440000   \n",
       "39996   veneto                 Garda       219    5+       2   1200000   \n",
       "39997   veneto                Mirano       185    5+       2    450000   \n",
       "39998   veneto                  Dolo       170    5+       2    380000   \n",
       "\n",
       "             date  \n",
       "0      2023-07-31  \n",
       "1      2023-07-31  \n",
       "2      2023-07-31  \n",
       "4      2023-07-31  \n",
       "5      2023-07-31  \n",
       "...           ...  \n",
       "39994  2023-07-31  \n",
       "39995  2023-07-31  \n",
       "39996  2023-07-31  \n",
       "39997  2023-07-31  \n",
       "39998  2023-07-31  \n",
       "\n",
       "[39490 rows x 7 columns]"
      ]
     },
     "execution_count": 201,
     "metadata": {},
     "output_type": "execute_result"
    }
   ],
   "source": [
    "#CONVERT 0 VALUES TO NAN\n",
    "df['area[m2]'] = df['area[m2]'].apply(lambda x: np.nan if x==0 else x)\n",
    "df['price[€]'] = df['price[€]'].apply(lambda x: np.nan if x==0 else x)\n",
    "\n",
    "#CONVERT TO INT TYPE\n",
    "df['area[m2]'] = df['area[m2]'].astype('Int64', errors='ignore')\n",
    "df['price[€]'] = df['price[€]'].astype('Int64', errors='ignore')\n",
    "\n",
    "df"
   ]
  },
  {
   "cell_type": "code",
   "execution_count": 202,
   "metadata": {},
   "outputs": [
    {
     "name": "stdout",
     "output_type": "stream",
     "text": [
      "<class 'pandas.core.frame.DataFrame'>\n",
      "Int64Index: 39490 entries, 0 to 39998\n",
      "Data columns (total 7 columns):\n",
      " #   Column    Non-Null Count  Dtype \n",
      "---  ------    --------------  ----- \n",
      " 0   region    39490 non-null  object\n",
      " 1   city      39490 non-null  object\n",
      " 2   area[m2]  39465 non-null  Int64 \n",
      " 3   rooms     38559 non-null  object\n",
      " 4   toilets   39490 non-null  object\n",
      " 5   price[€]  35321 non-null  Int64 \n",
      " 6   date      39490 non-null  object\n",
      "dtypes: Int64(2), object(5)\n",
      "memory usage: 2.5+ MB\n"
     ]
    }
   ],
   "source": [
    "df.info()"
   ]
  },
  {
   "cell_type": "markdown",
   "metadata": {},
   "source": [
    "I now rename the regions into a more appropriate manner:"
   ]
  },
  {
   "cell_type": "code",
   "execution_count": 203,
   "metadata": {},
   "outputs": [
    {
     "data": {
      "text/plain": [
       "region         0\n",
       "city           0\n",
       "area[m2]      25\n",
       "rooms        931\n",
       "toilets        0\n",
       "price[€]    4169\n",
       "date           0\n",
       "dtype: int64"
      ]
     },
     "execution_count": 203,
     "metadata": {},
     "output_type": "execute_result"
    }
   ],
   "source": [
    "regions_dict = {'abruzzo':'Abruzzo', 'basilicata':'Basilicata', 'campania':'Campania', 'calabria':'Calabria', 'emilia-romagna':'Emilia Romagna',\n",
    "       'friuli-venezia-giulia':'Friuli-Venezia Giulia', 'lazio': 'Lazio', 'liguria':'Liguria', 'lombardia':'Lombardia', 'marche':'Marche',\n",
    "       'molise':'Molise', 'piemonte':'Piemonte', 'puglia':'Puglia', 'sardegna':'Sardegna', 'sicilia':'Sicilia', 'toscana':'Toscana',\n",
    "       'trentino-alto-adige': 'Trentino-Alto Adige', 'umbria':'Umbria', 'valle-d-aosta':'Valle d\\'Aosta', 'veneto':'Veneto'}\n",
    "\n",
    "df.replace({'region':regions_dict}, inplace=True)\n",
    "df.isna().sum()\n"
   ]
  },
  {
   "cell_type": "code",
   "execution_count": 204,
   "metadata": {},
   "outputs": [
    {
     "data": {
      "text/html": [
       "<div>\n",
       "<style scoped>\n",
       "    .dataframe tbody tr th:only-of-type {\n",
       "        vertical-align: middle;\n",
       "    }\n",
       "\n",
       "    .dataframe tbody tr th {\n",
       "        vertical-align: top;\n",
       "    }\n",
       "\n",
       "    .dataframe thead th {\n",
       "        text-align: right;\n",
       "    }\n",
       "</style>\n",
       "<table border=\"1\" class=\"dataframe\">\n",
       "  <thead>\n",
       "    <tr style=\"text-align: right;\">\n",
       "      <th></th>\n",
       "      <th>region</th>\n",
       "      <th>city</th>\n",
       "      <th>area[m2]</th>\n",
       "      <th>rooms</th>\n",
       "      <th>toilets</th>\n",
       "      <th>price[€]</th>\n",
       "      <th>date</th>\n",
       "    </tr>\n",
       "  </thead>\n",
       "  <tbody>\n",
       "    <tr>\n",
       "      <th>8337</th>\n",
       "      <td>Emilia Romagna</td>\n",
       "      <td>Bologna</td>\n",
       "      <td>105</td>\n",
       "      <td>4</td>\n",
       "      <td>2</td>\n",
       "      <td>429000</td>\n",
       "      <td>2023-07-31</td>\n",
       "    </tr>\n",
       "    <tr>\n",
       "      <th>32063</th>\n",
       "      <td>Trentino-Alto Adige</td>\n",
       "      <td>Bolzano</td>\n",
       "      <td>190</td>\n",
       "      <td>4</td>\n",
       "      <td>1</td>\n",
       "      <td>995000</td>\n",
       "      <td>2023-07-31</td>\n",
       "    </tr>\n",
       "    <tr>\n",
       "      <th>19186</th>\n",
       "      <td>Marche</td>\n",
       "      <td>Montecosaro</td>\n",
       "      <td>79</td>\n",
       "      <td>3</td>\n",
       "      <td>1</td>\n",
       "      <td>130000</td>\n",
       "      <td>2023-07-31</td>\n",
       "    </tr>\n",
       "    <tr>\n",
       "      <th>26930</th>\n",
       "      <td>Sardegna</td>\n",
       "      <td>Alghero</td>\n",
       "      <td>846</td>\n",
       "      <td>5+</td>\n",
       "      <td>1</td>\n",
       "      <td>5650000</td>\n",
       "      <td>2023-07-31</td>\n",
       "    </tr>\n",
       "    <tr>\n",
       "      <th>35111</th>\n",
       "      <td>Umbria</td>\n",
       "      <td>Gubbio</td>\n",
       "      <td>147</td>\n",
       "      <td>5+</td>\n",
       "      <td>1</td>\n",
       "      <td>&lt;NA&gt;</td>\n",
       "      <td>2023-07-31</td>\n",
       "    </tr>\n",
       "    <tr>\n",
       "      <th>10668</th>\n",
       "      <td>Friuli-Venezia Giulia</td>\n",
       "      <td>Lignano Sabbiadoro</td>\n",
       "      <td>270</td>\n",
       "      <td>4</td>\n",
       "      <td>2</td>\n",
       "      <td>430000</td>\n",
       "      <td>2023-07-31</td>\n",
       "    </tr>\n",
       "    <tr>\n",
       "      <th>38443</th>\n",
       "      <td>Veneto</td>\n",
       "      <td>Vigonza</td>\n",
       "      <td>190</td>\n",
       "      <td>5+</td>\n",
       "      <td>3</td>\n",
       "      <td>465000</td>\n",
       "      <td>2023-07-31</td>\n",
       "    </tr>\n",
       "    <tr>\n",
       "      <th>2270</th>\n",
       "      <td>Basilicata</td>\n",
       "      <td>Maratea</td>\n",
       "      <td>78</td>\n",
       "      <td>4</td>\n",
       "      <td>3</td>\n",
       "      <td>185000</td>\n",
       "      <td>2023-07-31</td>\n",
       "    </tr>\n",
       "    <tr>\n",
       "      <th>31552</th>\n",
       "      <td>Toscana</td>\n",
       "      <td>Pontassieve</td>\n",
       "      <td>850</td>\n",
       "      <td>5+</td>\n",
       "      <td>3+</td>\n",
       "      <td>1500000</td>\n",
       "      <td>2023-07-31</td>\n",
       "    </tr>\n",
       "    <tr>\n",
       "      <th>32808</th>\n",
       "      <td>Trentino-Alto Adige</td>\n",
       "      <td>Trento</td>\n",
       "      <td>61</td>\n",
       "      <td>3</td>\n",
       "      <td>1</td>\n",
       "      <td>280000</td>\n",
       "      <td>2023-07-31</td>\n",
       "    </tr>\n",
       "    <tr>\n",
       "      <th>12345</th>\n",
       "      <td>Lazio</td>\n",
       "      <td>Rocca di Papa</td>\n",
       "      <td>295</td>\n",
       "      <td>5+</td>\n",
       "      <td>3+</td>\n",
       "      <td>650000</td>\n",
       "      <td>2023-07-31</td>\n",
       "    </tr>\n",
       "    <tr>\n",
       "      <th>25400</th>\n",
       "      <td>Puglia</td>\n",
       "      <td>Casamassima</td>\n",
       "      <td>226</td>\n",
       "      <td>5</td>\n",
       "      <td>3+</td>\n",
       "      <td>271000</td>\n",
       "      <td>2023-07-31</td>\n",
       "    </tr>\n",
       "    <tr>\n",
       "      <th>34907</th>\n",
       "      <td>Umbria</td>\n",
       "      <td>Spoleto</td>\n",
       "      <td>2</td>\n",
       "      <td>5+</td>\n",
       "      <td>1</td>\n",
       "      <td>&lt;NA&gt;</td>\n",
       "      <td>2023-07-31</td>\n",
       "    </tr>\n",
       "    <tr>\n",
       "      <th>26288</th>\n",
       "      <td>Sardegna</td>\n",
       "      <td>Olbia</td>\n",
       "      <td>244</td>\n",
       "      <td>5+</td>\n",
       "      <td>3+</td>\n",
       "      <td>1500000</td>\n",
       "      <td>2023-07-31</td>\n",
       "    </tr>\n",
       "    <tr>\n",
       "      <th>24388</th>\n",
       "      <td>Puglia</td>\n",
       "      <td>Bari</td>\n",
       "      <td>80</td>\n",
       "      <td>3</td>\n",
       "      <td>1</td>\n",
       "      <td>149000</td>\n",
       "      <td>2023-07-31</td>\n",
       "    </tr>\n",
       "    <tr>\n",
       "      <th>11038</th>\n",
       "      <td>Friuli-Venezia Giulia</td>\n",
       "      <td>Udine</td>\n",
       "      <td>85</td>\n",
       "      <td>3</td>\n",
       "      <td>1</td>\n",
       "      <td>170000</td>\n",
       "      <td>2023-07-31</td>\n",
       "    </tr>\n",
       "    <tr>\n",
       "      <th>33412</th>\n",
       "      <td>Trentino-Alto Adige</td>\n",
       "      <td>Merano</td>\n",
       "      <td>125</td>\n",
       "      <td>4</td>\n",
       "      <td>2</td>\n",
       "      <td>770000</td>\n",
       "      <td>2023-07-31</td>\n",
       "    </tr>\n",
       "    <tr>\n",
       "      <th>36857</th>\n",
       "      <td>Valle d'Aosta</td>\n",
       "      <td>La Salle</td>\n",
       "      <td>138</td>\n",
       "      <td>4</td>\n",
       "      <td>3</td>\n",
       "      <td>467000</td>\n",
       "      <td>2023-07-31</td>\n",
       "    </tr>\n",
       "    <tr>\n",
       "      <th>32144</th>\n",
       "      <td>Trentino-Alto Adige</td>\n",
       "      <td>Pinzolo</td>\n",
       "      <td>140</td>\n",
       "      <td>4</td>\n",
       "      <td>2</td>\n",
       "      <td>715000</td>\n",
       "      <td>2023-07-31</td>\n",
       "    </tr>\n",
       "    <tr>\n",
       "      <th>9515</th>\n",
       "      <td>Emilia Romagna</td>\n",
       "      <td>San Giovanni in Persiceto</td>\n",
       "      <td>192</td>\n",
       "      <td>5+</td>\n",
       "      <td>2</td>\n",
       "      <td>405000</td>\n",
       "      <td>2023-07-31</td>\n",
       "    </tr>\n",
       "  </tbody>\n",
       "</table>\n",
       "</div>"
      ],
      "text/plain": [
       "                      region                       city  area[m2] rooms  \\\n",
       "8337          Emilia Romagna                    Bologna       105     4   \n",
       "32063    Trentino-Alto Adige                    Bolzano       190     4   \n",
       "19186                 Marche                Montecosaro        79     3   \n",
       "26930               Sardegna                    Alghero       846    5+   \n",
       "35111                 Umbria                     Gubbio       147    5+   \n",
       "10668  Friuli-Venezia Giulia         Lignano Sabbiadoro       270     4   \n",
       "38443                 Veneto                    Vigonza       190    5+   \n",
       "2270              Basilicata                    Maratea        78     4   \n",
       "31552                Toscana                Pontassieve       850    5+   \n",
       "32808    Trentino-Alto Adige                     Trento        61     3   \n",
       "12345                  Lazio              Rocca di Papa       295    5+   \n",
       "25400                 Puglia                Casamassima       226     5   \n",
       "34907                 Umbria                    Spoleto         2    5+   \n",
       "26288               Sardegna                      Olbia       244    5+   \n",
       "24388                 Puglia                       Bari        80     3   \n",
       "11038  Friuli-Venezia Giulia                      Udine        85     3   \n",
       "33412    Trentino-Alto Adige                     Merano       125     4   \n",
       "36857          Valle d'Aosta                   La Salle       138     4   \n",
       "32144    Trentino-Alto Adige                    Pinzolo       140     4   \n",
       "9515          Emilia Romagna  San Giovanni in Persiceto       192    5+   \n",
       "\n",
       "      toilets  price[€]        date  \n",
       "8337        2    429000  2023-07-31  \n",
       "32063       1    995000  2023-07-31  \n",
       "19186       1    130000  2023-07-31  \n",
       "26930       1   5650000  2023-07-31  \n",
       "35111       1      <NA>  2023-07-31  \n",
       "10668       2    430000  2023-07-31  \n",
       "38443       3    465000  2023-07-31  \n",
       "2270        3    185000  2023-07-31  \n",
       "31552      3+   1500000  2023-07-31  \n",
       "32808       1    280000  2023-07-31  \n",
       "12345      3+    650000  2023-07-31  \n",
       "25400      3+    271000  2023-07-31  \n",
       "34907       1      <NA>  2023-07-31  \n",
       "26288      3+   1500000  2023-07-31  \n",
       "24388       1    149000  2023-07-31  \n",
       "11038       1    170000  2023-07-31  \n",
       "33412       2    770000  2023-07-31  \n",
       "36857       3    467000  2023-07-31  \n",
       "32144       2    715000  2023-07-31  \n",
       "9515        2    405000  2023-07-31  "
      ]
     },
     "execution_count": 204,
     "metadata": {},
     "output_type": "execute_result"
    }
   ],
   "source": [
    "df.sample(20)"
   ]
  },
  {
   "cell_type": "markdown",
   "metadata": {},
   "source": [
    "I believe this is enough. I do not convert the **date** column into DateTime object since for Tableau it is perfectly capable of treating as such as it is. It will now be possible for me to work on a Dashboard.\n",
    "\n",
    "I save the csv file:"
   ]
  },
  {
   "cell_type": "code",
   "execution_count": 205,
   "metadata": {},
   "outputs": [],
   "source": [
    "year = 2023\n",
    "month = 7"
   ]
  },
  {
   "cell_type": "code",
   "execution_count": 206,
   "metadata": {},
   "outputs": [],
   "source": [
    "df.to_csv(f'house_prices_italy_{year}_{month}_cleaned.csv')"
   ]
  }
 ],
 "metadata": {
  "kernelspec": {
   "display_name": "boolean",
   "language": "python",
   "name": "python3"
  },
  "language_info": {
   "codemirror_mode": {
    "name": "ipython",
    "version": 3
   },
   "file_extension": ".py",
   "mimetype": "text/x-python",
   "name": "python",
   "nbconvert_exporter": "python",
   "pygments_lexer": "ipython3",
   "version": "3.11.3"
  },
  "orig_nbformat": 4
 },
 "nbformat": 4,
 "nbformat_minor": 2
}
