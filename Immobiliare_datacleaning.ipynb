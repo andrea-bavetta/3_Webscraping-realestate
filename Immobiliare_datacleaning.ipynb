{
 "cells": [
  {
   "cell_type": "markdown",
   "metadata": {},
   "source": [
    "# Data cleaning Immobiliare.it"
   ]
  },
  {
   "cell_type": "markdown",
   "metadata": {},
   "source": [
    "Importing the librares"
   ]
  },
  {
   "cell_type": "code",
   "execution_count": 14,
   "metadata": {},
   "outputs": [],
   "source": [
    "import numpy as np\n",
    "import pandas as pd\n",
    "import re"
   ]
  },
  {
   "cell_type": "markdown",
   "metadata": {},
   "source": [
    "I check the raw dataframe and the datatypes"
   ]
  },
  {
   "cell_type": "code",
   "execution_count": 15,
   "metadata": {},
   "outputs": [
    {
     "data": {
      "text/html": [
       "<div>\n",
       "<style scoped>\n",
       "    .dataframe tbody tr th:only-of-type {\n",
       "        vertical-align: middle;\n",
       "    }\n",
       "\n",
       "    .dataframe tbody tr th {\n",
       "        vertical-align: top;\n",
       "    }\n",
       "\n",
       "    .dataframe thead th {\n",
       "        text-align: right;\n",
       "    }\n",
       "</style>\n",
       "<table border=\"1\" class=\"dataframe\">\n",
       "  <thead>\n",
       "    <tr style=\"text-align: right;\">\n",
       "      <th></th>\n",
       "      <th>Unnamed: 0</th>\n",
       "      <th>region</th>\n",
       "      <th>city</th>\n",
       "      <th>area</th>\n",
       "      <th>rooms</th>\n",
       "      <th>toilets</th>\n",
       "      <th>price</th>\n",
       "    </tr>\n",
       "  </thead>\n",
       "  <tbody>\n",
       "    <tr>\n",
       "      <th>0</th>\n",
       "      <td>0</td>\n",
       "      <td>abruzzo</td>\n",
       "      <td>Pescara</td>\n",
       "      <td>89m²</td>\n",
       "      <td>3</td>\n",
       "      <td>1</td>\n",
       "      <td>€ 75.000</td>\n",
       "    </tr>\n",
       "    <tr>\n",
       "      <th>1</th>\n",
       "      <td>1</td>\n",
       "      <td>abruzzo</td>\n",
       "      <td>Spoltore</td>\n",
       "      <td>199m²</td>\n",
       "      <td>5+</td>\n",
       "      <td>3+</td>\n",
       "      <td>€ 235.000</td>\n",
       "    </tr>\n",
       "    <tr>\n",
       "      <th>2</th>\n",
       "      <td>2</td>\n",
       "      <td>abruzzo</td>\n",
       "      <td>Pescara</td>\n",
       "      <td>227m²</td>\n",
       "      <td>5</td>\n",
       "      <td>3+</td>\n",
       "      <td>€ 299.000</td>\n",
       "    </tr>\n",
       "    <tr>\n",
       "      <th>3</th>\n",
       "      <td>3</td>\n",
       "      <td>abruzzo</td>\n",
       "      <td>Appartamenti di nuova costruzione a Tortoreto</td>\n",
       "      <td>43m²</td>\n",
       "      <td>2 - 4</td>\n",
       "      <td>1</td>\n",
       "      <td>da € 165.000</td>\n",
       "    </tr>\n",
       "    <tr>\n",
       "      <th>4</th>\n",
       "      <td>4</td>\n",
       "      <td>abruzzo</td>\n",
       "      <td>Rosciano</td>\n",
       "      <td>530m²</td>\n",
       "      <td>5+</td>\n",
       "      <td>3+</td>\n",
       "      <td>€ 650.000</td>\n",
       "    </tr>\n",
       "  </tbody>\n",
       "</table>\n",
       "</div>"
      ],
      "text/plain": [
       "   Unnamed: 0   region                                           city   area  \\\n",
       "0           0  abruzzo                                        Pescara   89m²   \n",
       "1           1  abruzzo                                       Spoltore  199m²   \n",
       "2           2  abruzzo                                        Pescara  227m²   \n",
       "3           3  abruzzo  Appartamenti di nuova costruzione a Tortoreto   43m²   \n",
       "4           4  abruzzo                                       Rosciano  530m²   \n",
       "\n",
       "   rooms toilets         price  \n",
       "0      3       1      € 75.000  \n",
       "1     5+      3+     € 235.000  \n",
       "2      5      3+     € 299.000  \n",
       "3  2 - 4       1  da € 165.000  \n",
       "4     5+      3+     € 650.000  "
      ]
     },
     "execution_count": 15,
     "metadata": {},
     "output_type": "execute_result"
    }
   ],
   "source": [
    "df_raw = pd.read_csv('house_prices_italy.csv')\n",
    "df_raw.head()"
   ]
  },
  {
   "cell_type": "code",
   "execution_count": 16,
   "metadata": {},
   "outputs": [
    {
     "name": "stdout",
     "output_type": "stream",
     "text": [
      "<class 'pandas.core.frame.DataFrame'>\n",
      "RangeIndex: 40000 entries, 0 to 39999\n",
      "Data columns (total 7 columns):\n",
      " #   Column      Non-Null Count  Dtype \n",
      "---  ------      --------------  ----- \n",
      " 0   Unnamed: 0  40000 non-null  int64 \n",
      " 1   region      40000 non-null  object\n",
      " 2   city        40000 non-null  object\n",
      " 3   area        39975 non-null  object\n",
      " 4   rooms       39052 non-null  object\n",
      " 5   toilets     40000 non-null  object\n",
      " 6   price       40000 non-null  object\n",
      "dtypes: int64(1), object(6)\n",
      "memory usage: 2.1+ MB\n"
     ]
    }
   ],
   "source": [
    "df_raw.info()"
   ]
  },
  {
   "cell_type": "markdown",
   "metadata": {},
   "source": [
    "Are there any null values? let's see:"
   ]
  },
  {
   "cell_type": "code",
   "execution_count": 17,
   "metadata": {},
   "outputs": [
    {
     "data": {
      "text/plain": [
       "Unnamed: 0      0\n",
       "region          0\n",
       "city            0\n",
       "area           25\n",
       "rooms         948\n",
       "toilets         0\n",
       "price           0\n",
       "dtype: int64"
      ]
     },
     "execution_count": 17,
     "metadata": {},
     "output_type": "execute_result"
    }
   ],
   "source": [
    "df_raw.isnull().sum()"
   ]
  },
  {
   "cell_type": "markdown",
   "metadata": {},
   "source": [
    "I decided to drop the first column since it does not carry any info:"
   ]
  },
  {
   "cell_type": "code",
   "execution_count": 18,
   "metadata": {},
   "outputs": [],
   "source": [
    "df=df_raw.drop(\"Unnamed: 0\", axis=1)"
   ]
  },
  {
   "cell_type": "code",
   "execution_count": 19,
   "metadata": {},
   "outputs": [
    {
     "data": {
      "text/html": [
       "<div>\n",
       "<style scoped>\n",
       "    .dataframe tbody tr th:only-of-type {\n",
       "        vertical-align: middle;\n",
       "    }\n",
       "\n",
       "    .dataframe tbody tr th {\n",
       "        vertical-align: top;\n",
       "    }\n",
       "\n",
       "    .dataframe thead th {\n",
       "        text-align: right;\n",
       "    }\n",
       "</style>\n",
       "<table border=\"1\" class=\"dataframe\">\n",
       "  <thead>\n",
       "    <tr style=\"text-align: right;\">\n",
       "      <th></th>\n",
       "      <th>region</th>\n",
       "      <th>city</th>\n",
       "      <th>area</th>\n",
       "      <th>rooms</th>\n",
       "      <th>toilets</th>\n",
       "      <th>price</th>\n",
       "    </tr>\n",
       "  </thead>\n",
       "  <tbody>\n",
       "    <tr>\n",
       "      <th>0</th>\n",
       "      <td>abruzzo</td>\n",
       "      <td>Pescara</td>\n",
       "      <td>89m²</td>\n",
       "      <td>3</td>\n",
       "      <td>1</td>\n",
       "      <td>€ 75.000</td>\n",
       "    </tr>\n",
       "    <tr>\n",
       "      <th>1</th>\n",
       "      <td>abruzzo</td>\n",
       "      <td>Spoltore</td>\n",
       "      <td>199m²</td>\n",
       "      <td>5+</td>\n",
       "      <td>3+</td>\n",
       "      <td>€ 235.000</td>\n",
       "    </tr>\n",
       "    <tr>\n",
       "      <th>2</th>\n",
       "      <td>abruzzo</td>\n",
       "      <td>Pescara</td>\n",
       "      <td>227m²</td>\n",
       "      <td>5</td>\n",
       "      <td>3+</td>\n",
       "      <td>€ 299.000</td>\n",
       "    </tr>\n",
       "    <tr>\n",
       "      <th>3</th>\n",
       "      <td>abruzzo</td>\n",
       "      <td>Appartamenti di nuova costruzione a Tortoreto</td>\n",
       "      <td>43m²</td>\n",
       "      <td>2 - 4</td>\n",
       "      <td>1</td>\n",
       "      <td>da € 165.000</td>\n",
       "    </tr>\n",
       "    <tr>\n",
       "      <th>4</th>\n",
       "      <td>abruzzo</td>\n",
       "      <td>Rosciano</td>\n",
       "      <td>530m²</td>\n",
       "      <td>5+</td>\n",
       "      <td>3+</td>\n",
       "      <td>€ 650.000</td>\n",
       "    </tr>\n",
       "  </tbody>\n",
       "</table>\n",
       "</div>"
      ],
      "text/plain": [
       "    region                                           city   area  rooms  \\\n",
       "0  abruzzo                                        Pescara   89m²      3   \n",
       "1  abruzzo                                       Spoltore  199m²     5+   \n",
       "2  abruzzo                                        Pescara  227m²      5   \n",
       "3  abruzzo  Appartamenti di nuova costruzione a Tortoreto   43m²  2 - 4   \n",
       "4  abruzzo                                       Rosciano  530m²     5+   \n",
       "\n",
       "  toilets         price  \n",
       "0       1      € 75.000  \n",
       "1      3+     € 235.000  \n",
       "2      3+     € 299.000  \n",
       "3       1  da € 165.000  \n",
       "4      3+     € 650.000  "
      ]
     },
     "execution_count": 19,
     "metadata": {},
     "output_type": "execute_result"
    }
   ],
   "source": [
    "df.head()"
   ]
  },
  {
   "cell_type": "markdown",
   "metadata": {},
   "source": [
    "I force the \"area\" column as 'string', if not, later it will give errors."
   ]
  },
  {
   "cell_type": "code",
   "execution_count": 20,
   "metadata": {},
   "outputs": [],
   "source": [
    "df['area'] = df['area'].astype(str)"
   ]
  },
  {
   "cell_type": "markdown",
   "metadata": {},
   "source": [
    "I do not like the column names. I rename them:"
   ]
  },
  {
   "cell_type": "code",
   "execution_count": 21,
   "metadata": {},
   "outputs": [
    {
     "data": {
      "text/html": [
       "<div>\n",
       "<style scoped>\n",
       "    .dataframe tbody tr th:only-of-type {\n",
       "        vertical-align: middle;\n",
       "    }\n",
       "\n",
       "    .dataframe tbody tr th {\n",
       "        vertical-align: top;\n",
       "    }\n",
       "\n",
       "    .dataframe thead th {\n",
       "        text-align: right;\n",
       "    }\n",
       "</style>\n",
       "<table border=\"1\" class=\"dataframe\">\n",
       "  <thead>\n",
       "    <tr style=\"text-align: right;\">\n",
       "      <th></th>\n",
       "      <th>region</th>\n",
       "      <th>city</th>\n",
       "      <th>area[m2]</th>\n",
       "      <th>rooms</th>\n",
       "      <th>toilets</th>\n",
       "      <th>price[€]</th>\n",
       "    </tr>\n",
       "  </thead>\n",
       "  <tbody>\n",
       "    <tr>\n",
       "      <th>14861</th>\n",
       "      <td>liguria</td>\n",
       "      <td>Genova</td>\n",
       "      <td>85m²</td>\n",
       "      <td>3</td>\n",
       "      <td>2</td>\n",
       "      <td>€ 270.000</td>\n",
       "    </tr>\n",
       "    <tr>\n",
       "      <th>3044</th>\n",
       "      <td>basilicata</td>\n",
       "      <td>Policoro</td>\n",
       "      <td>79m²</td>\n",
       "      <td>4</td>\n",
       "      <td>2</td>\n",
       "      <td>€ 115.000</td>\n",
       "    </tr>\n",
       "    <tr>\n",
       "      <th>25058</th>\n",
       "      <td>puglia</td>\n",
       "      <td>Francavilla Fontana</td>\n",
       "      <td>150m²</td>\n",
       "      <td>5+</td>\n",
       "      <td>1</td>\n",
       "      <td>€ 350.000</td>\n",
       "    </tr>\n",
       "    <tr>\n",
       "      <th>27878</th>\n",
       "      <td>sardegna</td>\n",
       "      <td>Castiadas</td>\n",
       "      <td>90m²</td>\n",
       "      <td>3</td>\n",
       "      <td>1</td>\n",
       "      <td>€ 270.000</td>\n",
       "    </tr>\n",
       "    <tr>\n",
       "      <th>4570</th>\n",
       "      <td>campania</td>\n",
       "      <td>San Cipriano d'Aversa</td>\n",
       "      <td>367m²</td>\n",
       "      <td>5</td>\n",
       "      <td>1</td>\n",
       "      <td>da € 172.687,00</td>\n",
       "    </tr>\n",
       "    <tr>\n",
       "      <th>33753</th>\n",
       "      <td>trentino-alto-adige</td>\n",
       "      <td>Bolzano</td>\n",
       "      <td>83m²</td>\n",
       "      <td>3</td>\n",
       "      <td>1</td>\n",
       "      <td>€ 310.000</td>\n",
       "    </tr>\n",
       "    <tr>\n",
       "      <th>2345</th>\n",
       "      <td>basilicata</td>\n",
       "      <td>Tursi</td>\n",
       "      <td>160m²</td>\n",
       "      <td>4</td>\n",
       "      <td>2</td>\n",
       "      <td>€ 95.000</td>\n",
       "    </tr>\n",
       "    <tr>\n",
       "      <th>25812</th>\n",
       "      <td>puglia</td>\n",
       "      <td>Matino</td>\n",
       "      <td>260m²</td>\n",
       "      <td>5+</td>\n",
       "      <td>3</td>\n",
       "      <td>€ 175.000</td>\n",
       "    </tr>\n",
       "    <tr>\n",
       "      <th>6053</th>\n",
       "      <td>calabria</td>\n",
       "      <td>Crotone</td>\n",
       "      <td>133m²</td>\n",
       "      <td>3</td>\n",
       "      <td>1</td>\n",
       "      <td>da € 79.700,00</td>\n",
       "    </tr>\n",
       "    <tr>\n",
       "      <th>33439</th>\n",
       "      <td>trentino-alto-adige</td>\n",
       "      <td>Merano</td>\n",
       "      <td>185m²</td>\n",
       "      <td>3</td>\n",
       "      <td>1</td>\n",
       "      <td>€ 2.000.000</td>\n",
       "    </tr>\n",
       "  </tbody>\n",
       "</table>\n",
       "</div>"
      ],
      "text/plain": [
       "                    region                    city area[m2] rooms toilets  \\\n",
       "14861              liguria                  Genova     85m²     3       2   \n",
       "3044            basilicata                Policoro     79m²     4       2   \n",
       "25058               puglia     Francavilla Fontana    150m²    5+       1   \n",
       "27878             sardegna               Castiadas     90m²     3       1   \n",
       "4570              campania   San Cipriano d'Aversa    367m²     5       1   \n",
       "33753  trentino-alto-adige                 Bolzano     83m²     3       1   \n",
       "2345            basilicata                   Tursi    160m²     4       2   \n",
       "25812               puglia                  Matino    260m²    5+       3   \n",
       "6053              calabria                 Crotone    133m²     3       1   \n",
       "33439  trentino-alto-adige                  Merano    185m²     3       1   \n",
       "\n",
       "              price[€]  \n",
       "14861        € 270.000  \n",
       "3044         € 115.000  \n",
       "25058        € 350.000  \n",
       "27878        € 270.000  \n",
       "4570   da € 172.687,00  \n",
       "33753        € 310.000  \n",
       "2345          € 95.000  \n",
       "25812        € 175.000  \n",
       "6053    da € 79.700,00  \n",
       "33439      € 2.000.000  "
      ]
     },
     "execution_count": 21,
     "metadata": {},
     "output_type": "execute_result"
    }
   ],
   "source": [
    "df.rename(columns={'area':'area[m2]', 'price':'price[€]'}, inplace=True)\n",
    "df.sample(10)"
   ]
  },
  {
   "cell_type": "markdown",
   "metadata": {},
   "source": [
    "Regex on \"area\" column. Let's start cleaning from here:"
   ]
  },
  {
   "cell_type": "code",
   "execution_count": 22,
   "metadata": {},
   "outputs": [
    {
     "data": {
      "text/html": [
       "<div>\n",
       "<style scoped>\n",
       "    .dataframe tbody tr th:only-of-type {\n",
       "        vertical-align: middle;\n",
       "    }\n",
       "\n",
       "    .dataframe tbody tr th {\n",
       "        vertical-align: top;\n",
       "    }\n",
       "\n",
       "    .dataframe thead th {\n",
       "        text-align: right;\n",
       "    }\n",
       "</style>\n",
       "<table border=\"1\" class=\"dataframe\">\n",
       "  <thead>\n",
       "    <tr style=\"text-align: right;\">\n",
       "      <th></th>\n",
       "      <th>region</th>\n",
       "      <th>city</th>\n",
       "      <th>area[m2]</th>\n",
       "      <th>rooms</th>\n",
       "      <th>toilets</th>\n",
       "      <th>price[€]</th>\n",
       "    </tr>\n",
       "  </thead>\n",
       "  <tbody>\n",
       "    <tr>\n",
       "      <th>0</th>\n",
       "      <td>abruzzo</td>\n",
       "      <td>Pescara</td>\n",
       "      <td>89</td>\n",
       "      <td>3</td>\n",
       "      <td>1</td>\n",
       "      <td>€ 75.000</td>\n",
       "    </tr>\n",
       "    <tr>\n",
       "      <th>1</th>\n",
       "      <td>abruzzo</td>\n",
       "      <td>Spoltore</td>\n",
       "      <td>199</td>\n",
       "      <td>5+</td>\n",
       "      <td>3+</td>\n",
       "      <td>€ 235.000</td>\n",
       "    </tr>\n",
       "    <tr>\n",
       "      <th>2</th>\n",
       "      <td>abruzzo</td>\n",
       "      <td>Pescara</td>\n",
       "      <td>227</td>\n",
       "      <td>5</td>\n",
       "      <td>3+</td>\n",
       "      <td>€ 299.000</td>\n",
       "    </tr>\n",
       "    <tr>\n",
       "      <th>3</th>\n",
       "      <td>abruzzo</td>\n",
       "      <td>Appartamenti di nuova costruzione a Tortoreto</td>\n",
       "      <td>43</td>\n",
       "      <td>2 - 4</td>\n",
       "      <td>1</td>\n",
       "      <td>da € 165.000</td>\n",
       "    </tr>\n",
       "    <tr>\n",
       "      <th>4</th>\n",
       "      <td>abruzzo</td>\n",
       "      <td>Rosciano</td>\n",
       "      <td>530</td>\n",
       "      <td>5+</td>\n",
       "      <td>3+</td>\n",
       "      <td>€ 650.000</td>\n",
       "    </tr>\n",
       "  </tbody>\n",
       "</table>\n",
       "</div>"
      ],
      "text/plain": [
       "    region                                           city area[m2]  rooms  \\\n",
       "0  abruzzo                                        Pescara       89      3   \n",
       "1  abruzzo                                       Spoltore      199     5+   \n",
       "2  abruzzo                                        Pescara      227      5   \n",
       "3  abruzzo  Appartamenti di nuova costruzione a Tortoreto       43  2 - 4   \n",
       "4  abruzzo                                       Rosciano      530     5+   \n",
       "\n",
       "  toilets      price[€]  \n",
       "0       1      € 75.000  \n",
       "1      3+     € 235.000  \n",
       "2      3+     € 299.000  \n",
       "3       1  da € 165.000  \n",
       "4      3+     € 650.000  "
      ]
     },
     "execution_count": 22,
     "metadata": {},
     "output_type": "execute_result"
    }
   ],
   "source": [
    "#compilo il pattern\n",
    "p = re.compile('[0-9]+')\n",
    "\n",
    "\n",
    "df['area[m2]'] = df['area[m2]'].apply(lambda x: np.nan if p.search(x) is None else p.search(x).group())\n",
    "df.head()"
   ]
  },
  {
   "cell_type": "code",
   "execution_count": 23,
   "metadata": {},
   "outputs": [
    {
     "data": {
      "text/plain": [
       "region        0\n",
       "city          0\n",
       "area[m2]     25\n",
       "rooms       948\n",
       "toilets       0\n",
       "price[€]      0\n",
       "dtype: int64"
      ]
     },
     "execution_count": 23,
     "metadata": {},
     "output_type": "execute_result"
    }
   ],
   "source": [
    "df.isna().sum()"
   ]
  },
  {
   "cell_type": "markdown",
   "metadata": {},
   "source": [
    "Now it's the turn for the \"price\" column:"
   ]
  },
  {
   "cell_type": "code",
   "execution_count": 24,
   "metadata": {},
   "outputs": [],
   "source": [
    "p_price = re.compile('[0-9]+\\.[0-9]+')"
   ]
  },
  {
   "cell_type": "code",
   "execution_count": 25,
   "metadata": {},
   "outputs": [
    {
     "data": {
      "text/plain": [
       "region         0\n",
       "city           0\n",
       "area[m2]      25\n",
       "rooms        948\n",
       "toilets        0\n",
       "price[€]    1265\n",
       "dtype: int64"
      ]
     },
     "execution_count": 25,
     "metadata": {},
     "output_type": "execute_result"
    }
   ],
   "source": [
    "df['price[€]'] = df['price[€]'].apply(lambda x: np.nan if p_price.search(x) is None else p_price.search(x).group())\n",
    "df.isna().sum()"
   ]
  },
  {
   "cell_type": "markdown",
   "metadata": {},
   "source": [
    "I now rename the regions into a more appropriate manner:"
   ]
  },
  {
   "cell_type": "code",
   "execution_count": 26,
   "metadata": {},
   "outputs": [
    {
     "data": {
      "text/plain": [
       "region         0\n",
       "city           0\n",
       "area[m2]      25\n",
       "rooms        948\n",
       "toilets        0\n",
       "price[€]    1265\n",
       "dtype: int64"
      ]
     },
     "execution_count": 26,
     "metadata": {},
     "output_type": "execute_result"
    }
   ],
   "source": [
    "regions_dict = {'abruzzo':'Abruzzo', 'basilicata':'Basilicata', 'campania':'Campania', 'calabria':'Calabria', 'emilia-romagna':'Emilia Romagna',\n",
    "       'friuli-venezia-giulia':'Friuli-Venezia Giulia', 'lazio': 'Lazio', 'liguria':'Liguria', 'lombardia':'Lombardia', 'marche':'Marche',\n",
    "       'molise':'Molise', 'piemonte':'Piemonte', 'puglia':'Puglia', 'sardegna':'Sardegna', 'sicilia':'Sicilia', 'toscana':'Toscana',\n",
    "       'trentino-alto-adige': 'Trentino-Alto Adige', 'umbria':'Umbria', 'valle-d-aosta':'Valle d\\'Aosta', 'veneto':'Veneto'}\n",
    "\n",
    "df.replace({'region':regions_dict}, inplace=True)\n",
    "df.isna().sum()\n"
   ]
  },
  {
   "cell_type": "markdown",
   "metadata": {},
   "source": [
    "I believe this is enough. It will be possible to load the data into a DataViz software and keep going from there with some visualizations"
   ]
  },
  {
   "cell_type": "code",
   "execution_count": 27,
   "metadata": {},
   "outputs": [],
   "source": [
    "df.to_csv('house_prices_italy_cleaned.csv')"
   ]
  }
 ],
 "metadata": {
  "kernelspec": {
   "display_name": "boolean",
   "language": "python",
   "name": "python3"
  },
  "language_info": {
   "codemirror_mode": {
    "name": "ipython",
    "version": 3
   },
   "file_extension": ".py",
   "mimetype": "text/x-python",
   "name": "python",
   "nbconvert_exporter": "python",
   "pygments_lexer": "ipython3",
   "version": "3.11.3"
  },
  "orig_nbformat": 4
 },
 "nbformat": 4,
 "nbformat_minor": 2
}
