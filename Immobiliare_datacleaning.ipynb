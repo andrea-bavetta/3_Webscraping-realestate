{
 "cells": [
  {
   "cell_type": "markdown",
   "metadata": {},
   "source": [
    "# Data cleaning Immobiliare.it"
   ]
  },
  {
   "cell_type": "markdown",
   "metadata": {},
   "source": [
    "Inizio con importare le librerie utili"
   ]
  },
  {
   "cell_type": "code",
   "execution_count": 693,
   "metadata": {},
   "outputs": [],
   "source": [
    "import numpy as np\n",
    "import pandas as pd\n",
    "import re"
   ]
  },
  {
   "cell_type": "markdown",
   "metadata": {},
   "source": [
    "Controllo il dataframe grezzo nelle sue dimensioni e valori"
   ]
  },
  {
   "cell_type": "code",
   "execution_count": 694,
   "metadata": {},
   "outputs": [
    {
     "data": {
      "text/html": [
       "<div>\n",
       "<style scoped>\n",
       "    .dataframe tbody tr th:only-of-type {\n",
       "        vertical-align: middle;\n",
       "    }\n",
       "\n",
       "    .dataframe tbody tr th {\n",
       "        vertical-align: top;\n",
       "    }\n",
       "\n",
       "    .dataframe thead th {\n",
       "        text-align: right;\n",
       "    }\n",
       "</style>\n",
       "<table border=\"1\" class=\"dataframe\">\n",
       "  <thead>\n",
       "    <tr style=\"text-align: right;\">\n",
       "      <th></th>\n",
       "      <th>Unnamed: 0</th>\n",
       "      <th>region</th>\n",
       "      <th>city</th>\n",
       "      <th>area</th>\n",
       "      <th>rooms</th>\n",
       "      <th>toilets</th>\n",
       "      <th>price</th>\n",
       "    </tr>\n",
       "  </thead>\n",
       "  <tbody>\n",
       "    <tr>\n",
       "      <th>0</th>\n",
       "      <td>0</td>\n",
       "      <td>abruzzo</td>\n",
       "      <td>Pescara</td>\n",
       "      <td>89m²</td>\n",
       "      <td>3</td>\n",
       "      <td>1</td>\n",
       "      <td>€ 75.000</td>\n",
       "    </tr>\n",
       "    <tr>\n",
       "      <th>1</th>\n",
       "      <td>1</td>\n",
       "      <td>abruzzo</td>\n",
       "      <td>Spoltore</td>\n",
       "      <td>199m²</td>\n",
       "      <td>5+</td>\n",
       "      <td>3+</td>\n",
       "      <td>€ 235.000</td>\n",
       "    </tr>\n",
       "    <tr>\n",
       "      <th>2</th>\n",
       "      <td>2</td>\n",
       "      <td>abruzzo</td>\n",
       "      <td>Silvi</td>\n",
       "      <td>125m²</td>\n",
       "      <td>4</td>\n",
       "      <td>3</td>\n",
       "      <td>€ 165.000</td>\n",
       "    </tr>\n",
       "    <tr>\n",
       "      <th>3</th>\n",
       "      <td>3</td>\n",
       "      <td>abruzzo</td>\n",
       "      <td>Pescara</td>\n",
       "      <td>227m²</td>\n",
       "      <td>5</td>\n",
       "      <td>3+</td>\n",
       "      <td>€ 299.000</td>\n",
       "    </tr>\n",
       "    <tr>\n",
       "      <th>4</th>\n",
       "      <td>4</td>\n",
       "      <td>abruzzo</td>\n",
       "      <td>Pescara</td>\n",
       "      <td>126m²</td>\n",
       "      <td>5+</td>\n",
       "      <td>2</td>\n",
       "      <td>€ 139.000€ 149.000(-6,7%)</td>\n",
       "    </tr>\n",
       "  </tbody>\n",
       "</table>\n",
       "</div>"
      ],
      "text/plain": [
       "   Unnamed: 0   region       city   area rooms toilets  \\\n",
       "0           0  abruzzo    Pescara   89m²     3       1   \n",
       "1           1  abruzzo   Spoltore  199m²    5+      3+   \n",
       "2           2  abruzzo      Silvi  125m²     4       3   \n",
       "3           3  abruzzo    Pescara  227m²     5      3+   \n",
       "4           4  abruzzo    Pescara  126m²    5+       2   \n",
       "\n",
       "                       price  \n",
       "0                   € 75.000  \n",
       "1                  € 235.000  \n",
       "2                  € 165.000  \n",
       "3                  € 299.000  \n",
       "4  € 139.000€ 149.000(-6,7%)  "
      ]
     },
     "execution_count": 694,
     "metadata": {},
     "output_type": "execute_result"
    }
   ],
   "source": [
    "df_raw = pd.read_csv('house_prices_italy.csv')\n",
    "df_raw.head()"
   ]
  },
  {
   "cell_type": "code",
   "execution_count": 695,
   "metadata": {},
   "outputs": [
    {
     "name": "stdout",
     "output_type": "stream",
     "text": [
      "<class 'pandas.core.frame.DataFrame'>\n",
      "RangeIndex: 39949 entries, 0 to 39948\n",
      "Data columns (total 7 columns):\n",
      " #   Column      Non-Null Count  Dtype \n",
      "---  ------      --------------  ----- \n",
      " 0   Unnamed: 0  39949 non-null  int64 \n",
      " 1   region      39949 non-null  object\n",
      " 2   city        39949 non-null  object\n",
      " 3   area        39914 non-null  object\n",
      " 4   rooms       38962 non-null  object\n",
      " 5   toilets     39949 non-null  object\n",
      " 6   price       39949 non-null  object\n",
      "dtypes: int64(1), object(6)\n",
      "memory usage: 2.1+ MB\n"
     ]
    }
   ],
   "source": [
    "df_raw.info()"
   ]
  },
  {
   "cell_type": "markdown",
   "metadata": {},
   "source": [
    "Vedo se ci sono valori nulli"
   ]
  },
  {
   "cell_type": "code",
   "execution_count": 696,
   "metadata": {},
   "outputs": [
    {
     "data": {
      "text/plain": [
       "Unnamed: 0      0\n",
       "region          0\n",
       "city            0\n",
       "area           35\n",
       "rooms         987\n",
       "toilets         0\n",
       "price           0\n",
       "dtype: int64"
      ]
     },
     "execution_count": 696,
     "metadata": {},
     "output_type": "execute_result"
    }
   ],
   "source": [
    "df_raw.isnull().sum()"
   ]
  },
  {
   "cell_type": "markdown",
   "metadata": {},
   "source": [
    "Ho deciso di togliere la prima colonna visto che non mi da alcuna informaione utile"
   ]
  },
  {
   "cell_type": "code",
   "execution_count": 697,
   "metadata": {},
   "outputs": [],
   "source": [
    "df=df_raw.drop(\"Unnamed: 0\", axis=1)"
   ]
  },
  {
   "cell_type": "code",
   "execution_count": 698,
   "metadata": {},
   "outputs": [
    {
     "data": {
      "text/html": [
       "<div>\n",
       "<style scoped>\n",
       "    .dataframe tbody tr th:only-of-type {\n",
       "        vertical-align: middle;\n",
       "    }\n",
       "\n",
       "    .dataframe tbody tr th {\n",
       "        vertical-align: top;\n",
       "    }\n",
       "\n",
       "    .dataframe thead th {\n",
       "        text-align: right;\n",
       "    }\n",
       "</style>\n",
       "<table border=\"1\" class=\"dataframe\">\n",
       "  <thead>\n",
       "    <tr style=\"text-align: right;\">\n",
       "      <th></th>\n",
       "      <th>region</th>\n",
       "      <th>city</th>\n",
       "      <th>area</th>\n",
       "      <th>rooms</th>\n",
       "      <th>toilets</th>\n",
       "      <th>price</th>\n",
       "    </tr>\n",
       "  </thead>\n",
       "  <tbody>\n",
       "    <tr>\n",
       "      <th>0</th>\n",
       "      <td>abruzzo</td>\n",
       "      <td>Pescara</td>\n",
       "      <td>89m²</td>\n",
       "      <td>3</td>\n",
       "      <td>1</td>\n",
       "      <td>€ 75.000</td>\n",
       "    </tr>\n",
       "    <tr>\n",
       "      <th>1</th>\n",
       "      <td>abruzzo</td>\n",
       "      <td>Spoltore</td>\n",
       "      <td>199m²</td>\n",
       "      <td>5+</td>\n",
       "      <td>3+</td>\n",
       "      <td>€ 235.000</td>\n",
       "    </tr>\n",
       "    <tr>\n",
       "      <th>2</th>\n",
       "      <td>abruzzo</td>\n",
       "      <td>Silvi</td>\n",
       "      <td>125m²</td>\n",
       "      <td>4</td>\n",
       "      <td>3</td>\n",
       "      <td>€ 165.000</td>\n",
       "    </tr>\n",
       "    <tr>\n",
       "      <th>3</th>\n",
       "      <td>abruzzo</td>\n",
       "      <td>Pescara</td>\n",
       "      <td>227m²</td>\n",
       "      <td>5</td>\n",
       "      <td>3+</td>\n",
       "      <td>€ 299.000</td>\n",
       "    </tr>\n",
       "    <tr>\n",
       "      <th>4</th>\n",
       "      <td>abruzzo</td>\n",
       "      <td>Pescara</td>\n",
       "      <td>126m²</td>\n",
       "      <td>5+</td>\n",
       "      <td>2</td>\n",
       "      <td>€ 139.000€ 149.000(-6,7%)</td>\n",
       "    </tr>\n",
       "  </tbody>\n",
       "</table>\n",
       "</div>"
      ],
      "text/plain": [
       "    region       city   area rooms toilets                      price\n",
       "0  abruzzo    Pescara   89m²     3       1                   € 75.000\n",
       "1  abruzzo   Spoltore  199m²    5+      3+                  € 235.000\n",
       "2  abruzzo      Silvi  125m²     4       3                  € 165.000\n",
       "3  abruzzo    Pescara  227m²     5      3+                  € 299.000\n",
       "4  abruzzo    Pescara  126m²    5+       2  € 139.000€ 149.000(-6,7%)"
      ]
     },
     "execution_count": 698,
     "metadata": {},
     "output_type": "execute_result"
    }
   ],
   "source": [
    "df.head()"
   ]
  },
  {
   "cell_type": "markdown",
   "metadata": {},
   "source": [
    "Devo forzare la colonna 'Area' ad essere di tipo stringa, altrimenti dopo mi restituisce errore"
   ]
  },
  {
   "cell_type": "code",
   "execution_count": 699,
   "metadata": {},
   "outputs": [],
   "source": [
    "df['area'] = df['area'].astype(str)"
   ]
  },
  {
   "cell_type": "markdown",
   "metadata": {},
   "source": [
    "Rinomino le colonne in maniera tale che posseggano le dimensioni della vairabile che contengono"
   ]
  },
  {
   "cell_type": "code",
   "execution_count": 700,
   "metadata": {},
   "outputs": [
    {
     "data": {
      "text/html": [
       "<div>\n",
       "<style scoped>\n",
       "    .dataframe tbody tr th:only-of-type {\n",
       "        vertical-align: middle;\n",
       "    }\n",
       "\n",
       "    .dataframe tbody tr th {\n",
       "        vertical-align: top;\n",
       "    }\n",
       "\n",
       "    .dataframe thead th {\n",
       "        text-align: right;\n",
       "    }\n",
       "</style>\n",
       "<table border=\"1\" class=\"dataframe\">\n",
       "  <thead>\n",
       "    <tr style=\"text-align: right;\">\n",
       "      <th></th>\n",
       "      <th>region</th>\n",
       "      <th>city</th>\n",
       "      <th>area[m2]</th>\n",
       "      <th>rooms</th>\n",
       "      <th>toilets</th>\n",
       "      <th>price[€]</th>\n",
       "    </tr>\n",
       "  </thead>\n",
       "  <tbody>\n",
       "    <tr>\n",
       "      <th>18487</th>\n",
       "      <td>marche</td>\n",
       "      <td>Fano</td>\n",
       "      <td>149m²</td>\n",
       "      <td>5+</td>\n",
       "      <td>2</td>\n",
       "      <td>€ 340.000</td>\n",
       "    </tr>\n",
       "    <tr>\n",
       "      <th>391</th>\n",
       "      <td>abruzzo</td>\n",
       "      <td>Tortoreto</td>\n",
       "      <td>54m²</td>\n",
       "      <td>3</td>\n",
       "      <td>1</td>\n",
       "      <td>€ 158.000</td>\n",
       "    </tr>\n",
       "    <tr>\n",
       "      <th>24204</th>\n",
       "      <td>puglia</td>\n",
       "      <td>Fasano</td>\n",
       "      <td>147m²</td>\n",
       "      <td>5+</td>\n",
       "      <td>2</td>\n",
       "      <td>€ 950.000</td>\n",
       "    </tr>\n",
       "    <tr>\n",
       "      <th>22717</th>\n",
       "      <td>piemonte</td>\n",
       "      <td>Torino</td>\n",
       "      <td>53m²</td>\n",
       "      <td>2</td>\n",
       "      <td>1</td>\n",
       "      <td>€ 34.900</td>\n",
       "    </tr>\n",
       "    <tr>\n",
       "      <th>38523</th>\n",
       "      <td>veneto</td>\n",
       "      <td>Negrar di Valpolicella</td>\n",
       "      <td>138m²</td>\n",
       "      <td>5</td>\n",
       "      <td>2</td>\n",
       "      <td>€ 263.000</td>\n",
       "    </tr>\n",
       "    <tr>\n",
       "      <th>26819</th>\n",
       "      <td>sardegna</td>\n",
       "      <td>Busachi</td>\n",
       "      <td>73m²</td>\n",
       "      <td>2</td>\n",
       "      <td>1</td>\n",
       "      <td>€ 80.000</td>\n",
       "    </tr>\n",
       "    <tr>\n",
       "      <th>22234</th>\n",
       "      <td>piemonte</td>\n",
       "      <td>Torino</td>\n",
       "      <td>83m²</td>\n",
       "      <td>3</td>\n",
       "      <td>1</td>\n",
       "      <td>€ 138.000</td>\n",
       "    </tr>\n",
       "    <tr>\n",
       "      <th>30494</th>\n",
       "      <td>toscana</td>\n",
       "      <td>Firenze</td>\n",
       "      <td>82m²</td>\n",
       "      <td>4</td>\n",
       "      <td>1</td>\n",
       "      <td>€ 299.000</td>\n",
       "    </tr>\n",
       "    <tr>\n",
       "      <th>28457</th>\n",
       "      <td>sicilia</td>\n",
       "      <td>Siracusa</td>\n",
       "      <td>40m²</td>\n",
       "      <td>2</td>\n",
       "      <td>1</td>\n",
       "      <td>€ 67.000</td>\n",
       "    </tr>\n",
       "    <tr>\n",
       "      <th>37068</th>\n",
       "      <td>valle-d-aosta</td>\n",
       "      <td>La Salle</td>\n",
       "      <td>195m²</td>\n",
       "      <td>5</td>\n",
       "      <td>3</td>\n",
       "      <td>€ 590.000</td>\n",
       "    </tr>\n",
       "  </tbody>\n",
       "</table>\n",
       "</div>"
      ],
      "text/plain": [
       "              region                     city area[m2] rooms toilets  \\\n",
       "18487         marche                     Fano    149m²    5+       2   \n",
       "391          abruzzo                Tortoreto     54m²     3       1   \n",
       "24204         puglia                   Fasano    147m²    5+       2   \n",
       "22717       piemonte                   Torino     53m²     2       1   \n",
       "38523         veneto   Negrar di Valpolicella    138m²     5       2   \n",
       "26819       sardegna                  Busachi     73m²     2       1   \n",
       "22234       piemonte                   Torino     83m²     3       1   \n",
       "30494        toscana                  Firenze     82m²     4       1   \n",
       "28457        sicilia                 Siracusa     40m²     2       1   \n",
       "37068  valle-d-aosta                 La Salle    195m²     5       3   \n",
       "\n",
       "        price[€]  \n",
       "18487  € 340.000  \n",
       "391    € 158.000  \n",
       "24204  € 950.000  \n",
       "22717   € 34.900  \n",
       "38523  € 263.000  \n",
       "26819   € 80.000  \n",
       "22234  € 138.000  \n",
       "30494  € 299.000  \n",
       "28457   € 67.000  \n",
       "37068  € 590.000  "
      ]
     },
     "execution_count": 700,
     "metadata": {},
     "output_type": "execute_result"
    }
   ],
   "source": [
    "df.rename(columns={'area':'area[m2]', 'price':'price[€]'}, inplace=True)\n",
    "df.sample(10)"
   ]
  },
  {
   "cell_type": "markdown",
   "metadata": {},
   "source": [
    "Inizio con il pulire la colonna riferita all'area degli appartamenti. Utilizzo per questo le Regex:"
   ]
  },
  {
   "cell_type": "code",
   "execution_count": 701,
   "metadata": {},
   "outputs": [
    {
     "data": {
      "text/html": [
       "<div>\n",
       "<style scoped>\n",
       "    .dataframe tbody tr th:only-of-type {\n",
       "        vertical-align: middle;\n",
       "    }\n",
       "\n",
       "    .dataframe tbody tr th {\n",
       "        vertical-align: top;\n",
       "    }\n",
       "\n",
       "    .dataframe thead th {\n",
       "        text-align: right;\n",
       "    }\n",
       "</style>\n",
       "<table border=\"1\" class=\"dataframe\">\n",
       "  <thead>\n",
       "    <tr style=\"text-align: right;\">\n",
       "      <th></th>\n",
       "      <th>region</th>\n",
       "      <th>city</th>\n",
       "      <th>area[m2]</th>\n",
       "      <th>rooms</th>\n",
       "      <th>toilets</th>\n",
       "      <th>price[€]</th>\n",
       "    </tr>\n",
       "  </thead>\n",
       "  <tbody>\n",
       "    <tr>\n",
       "      <th>0</th>\n",
       "      <td>abruzzo</td>\n",
       "      <td>Pescara</td>\n",
       "      <td>89</td>\n",
       "      <td>3</td>\n",
       "      <td>1</td>\n",
       "      <td>€ 75.000</td>\n",
       "    </tr>\n",
       "    <tr>\n",
       "      <th>1</th>\n",
       "      <td>abruzzo</td>\n",
       "      <td>Spoltore</td>\n",
       "      <td>199</td>\n",
       "      <td>5+</td>\n",
       "      <td>3+</td>\n",
       "      <td>€ 235.000</td>\n",
       "    </tr>\n",
       "    <tr>\n",
       "      <th>2</th>\n",
       "      <td>abruzzo</td>\n",
       "      <td>Silvi</td>\n",
       "      <td>125</td>\n",
       "      <td>4</td>\n",
       "      <td>3</td>\n",
       "      <td>€ 165.000</td>\n",
       "    </tr>\n",
       "    <tr>\n",
       "      <th>3</th>\n",
       "      <td>abruzzo</td>\n",
       "      <td>Pescara</td>\n",
       "      <td>227</td>\n",
       "      <td>5</td>\n",
       "      <td>3+</td>\n",
       "      <td>€ 299.000</td>\n",
       "    </tr>\n",
       "    <tr>\n",
       "      <th>4</th>\n",
       "      <td>abruzzo</td>\n",
       "      <td>Pescara</td>\n",
       "      <td>126</td>\n",
       "      <td>5+</td>\n",
       "      <td>2</td>\n",
       "      <td>€ 139.000€ 149.000(-6,7%)</td>\n",
       "    </tr>\n",
       "  </tbody>\n",
       "</table>\n",
       "</div>"
      ],
      "text/plain": [
       "    region       city area[m2] rooms toilets                   price[€]\n",
       "0  abruzzo    Pescara       89     3       1                   € 75.000\n",
       "1  abruzzo   Spoltore      199    5+      3+                  € 235.000\n",
       "2  abruzzo      Silvi      125     4       3                  € 165.000\n",
       "3  abruzzo    Pescara      227     5      3+                  € 299.000\n",
       "4  abruzzo    Pescara      126    5+       2  € 139.000€ 149.000(-6,7%)"
      ]
     },
     "execution_count": 701,
     "metadata": {},
     "output_type": "execute_result"
    }
   ],
   "source": [
    "#compilo il pattern\n",
    "p = re.compile('[0-9]+')\n",
    "\n",
    "\n",
    "df['area[m2]'] = df['area[m2]'].apply(lambda x: np.nan if p.search(x) is None else p.search(x).group())\n",
    "df.head()"
   ]
  },
  {
   "cell_type": "code",
   "execution_count": 702,
   "metadata": {},
   "outputs": [
    {
     "data": {
      "text/plain": [
       "region        0\n",
       "city          0\n",
       "area[m2]     35\n",
       "rooms       987\n",
       "toilets       0\n",
       "price[€]      0\n",
       "dtype: int64"
      ]
     },
     "execution_count": 702,
     "metadata": {},
     "output_type": "execute_result"
    }
   ],
   "source": [
    "df.isna().sum()"
   ]
  },
  {
   "cell_type": "markdown",
   "metadata": {},
   "source": [
    "In alcuni casi la Regex non ha trovato un valore quindi li ho forzati come valori nulli che infatti appaiono nella tabella qui sopra."
   ]
  },
  {
   "cell_type": "markdown",
   "metadata": {},
   "source": [
    "Procedo ora con il pulire la colonna dei prezzi"
   ]
  },
  {
   "cell_type": "code",
   "execution_count": 703,
   "metadata": {},
   "outputs": [],
   "source": [
    "p_price = re.compile('[0-9]+\\.[0-9]+')"
   ]
  },
  {
   "cell_type": "code",
   "execution_count": 704,
   "metadata": {},
   "outputs": [
    {
     "data": {
      "text/plain": [
       "region         0\n",
       "city           0\n",
       "area[m2]      35\n",
       "rooms        987\n",
       "toilets        0\n",
       "price[€]    1235\n",
       "dtype: int64"
      ]
     },
     "execution_count": 704,
     "metadata": {},
     "output_type": "execute_result"
    }
   ],
   "source": [
    "df['price[€]'] = df['price[€]'].apply(lambda x: np.nan if p_price.search(x) is None else p_price.search(x).group())\n",
    "df.isna().sum()"
   ]
  },
  {
   "cell_type": "markdown",
   "metadata": {},
   "source": [
    "Stesso ragionamento di prima. Quando non ha trovato un valore, viene forzato a valore nullo. Infatti in alcuni annunci è possibile vedere la dicitura \"Prezzo su richiesta\"."
   ]
  },
  {
   "cell_type": "code",
   "execution_count": 705,
   "metadata": {},
   "outputs": [
    {
     "data": {
      "text/plain": [
       "array(['abruzzo', 'basilicata', 'campania', 'calabria', 'emilia-romagna',\n",
       "       'friuli-venezia-giulia', 'lazio', 'liguria', 'lombardia', 'marche',\n",
       "       'molise', 'piemonte', 'puglia', 'sardegna', 'sicilia', 'toscana',\n",
       "       'trentino-alto-adige', 'umbria', 'valle-d-aosta', 'veneto'],\n",
       "      dtype=object)"
      ]
     },
     "execution_count": 705,
     "metadata": {},
     "output_type": "execute_result"
    }
   ],
   "source": [
    "df.region.unique()"
   ]
  },
  {
   "cell_type": "code",
   "execution_count": 706,
   "metadata": {},
   "outputs": [
    {
     "data": {
      "text/plain": [
       "region         0\n",
       "city           0\n",
       "area[m2]      35\n",
       "rooms        987\n",
       "toilets        0\n",
       "price[€]    1235\n",
       "dtype: int64"
      ]
     },
     "execution_count": 706,
     "metadata": {},
     "output_type": "execute_result"
    }
   ],
   "source": [
    "regions_dict = {'abruzzo':'Abruzzo', 'basilicata':'Basilicata', 'campania':'Campania', 'calabria':'Calabria', 'emilia-romagna':'Emilia Romagna',\n",
    "       'friuli-venezia-giulia':'Friuli-Venezia Giulia', 'lazio': 'Lazio', 'liguria':'Liguria', 'lombardia':'Lombardia', 'marche':'Marche',\n",
    "       'molise':'Molise', 'piemonte':'Piemonte', 'puglia':'Puglia', 'sardegna':'Sardegna', 'sicilia':'Sicilia', 'toscana':'Toscana',\n",
    "       'trentino-alto-adige': 'Trentino-Alto Adige', 'umbria':'Umbria', 'valle-d-aosta':'Valle d\\'Aosta', 'veneto':'Veneto'}\n",
    "\n",
    "df.replace({'region':regions_dict}, inplace=True)\n",
    "df.isna().sum()\n"
   ]
  }
 ],
 "metadata": {
  "kernelspec": {
   "display_name": "boolean",
   "language": "python",
   "name": "python3"
  },
  "language_info": {
   "codemirror_mode": {
    "name": "ipython",
    "version": 3
   },
   "file_extension": ".py",
   "mimetype": "text/x-python",
   "name": "python",
   "nbconvert_exporter": "python",
   "pygments_lexer": "ipython3",
   "version": "3.11.3"
  },
  "orig_nbformat": 4
 },
 "nbformat": 4,
 "nbformat_minor": 2
}
